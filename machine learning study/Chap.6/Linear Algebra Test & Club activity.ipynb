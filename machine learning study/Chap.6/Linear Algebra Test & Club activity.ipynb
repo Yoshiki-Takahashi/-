{
 "cells": [
  {
   "cell_type": "markdown",
   "metadata": {},
   "source": [
    "## 6.3 説明変数が2個以上の場合の解析方法"
   ]
  },
  {
   "cell_type": "markdown",
   "metadata": {},
   "source": [
    "説明変数として、サークルに所属しているか否かという情報を加える。  \n",
    "これまでと同様に、所属しているか否かについて、ダミー変数で  \n",
    "表現してやれば良い。  \n",
    "やはり、線形代数の成績カテゴリーの1つである「優」の項目を  \n",
    "削除したモデルを使って解析を行う。ちなみに、「優」の項目を  \n",
    "削除した成績表はcsv.6.3のようになる。"
   ]
  },
  {
   "cell_type": "markdown",
   "metadata": {},
   "source": [
    "## 以降はstatsmodelを使う"
   ]
  },
  {
   "cell_type": "code",
   "execution_count": 2,
   "metadata": {},
   "outputs": [],
   "source": [
    "#ライブラリをインポート\n",
    "import pandas as pd\n",
    "import numpy as np\n",
    "%matplotlib inline\n",
    "import matplotlib.pyplot as plt\n",
    "import math\n",
    "import statsmodels.api as sm"
   ]
  },
  {
   "cell_type": "code",
   "execution_count": 3,
   "metadata": {},
   "outputs": [],
   "source": [
    "#データフレームの作成\n",
    "df = pd.read_csv(\"6.3.csv\", sep=\",\")"
   ]
  },
  {
   "cell_type": "code",
   "execution_count": 5,
   "metadata": {},
   "outputs": [],
   "source": [
    "#説明変数を取り出す\n",
    "X = df.loc[:, ['x12','x13','x2']].values\n",
    "\n",
    "#ターゲット変数を取り出す\n",
    "y = df['score'].values"
   ]
  },
  {
   "cell_type": "code",
   "execution_count": 6,
   "metadata": {},
   "outputs": [
    {
     "name": "stdout",
     "output_type": "stream",
     "text": [
      "                            OLS Regression Results                            \n",
      "==============================================================================\n",
      "Dep. Variable:                      y   R-squared:                       0.818\n",
      "Model:                            OLS   Adj. R-squared:                  0.727\n",
      "Method:                 Least Squares   F-statistic:                     9.007\n",
      "Date:                Mon, 24 Aug 2020   Prob (F-statistic):             0.0122\n",
      "Time:                        20:37:40   Log-Likelihood:                -28.236\n",
      "No. Observations:                  10   AIC:                             64.47\n",
      "Df Residuals:                       6   BIC:                             65.68\n",
      "Df Model:                           3                                         \n",
      "Covariance Type:            nonrobust                                         \n",
      "==============================================================================\n",
      "                 coef    std err          t      P>|t|      [0.025      0.975]\n",
      "------------------------------------------------------------------------------\n",
      "const         83.0000      3.143     26.405      0.000      75.308      90.692\n",
      "x1           -10.0000      4.058     -2.464      0.049     -19.930      -0.070\n",
      "x2           -19.0000      4.058     -4.682      0.003     -28.930      -9.070\n",
      "x3             9.0000      3.443      2.614      0.040       0.574      17.426\n",
      "==============================================================================\n",
      "Omnibus:                        2.982   Durbin-Watson:                   2.277\n",
      "Prob(Omnibus):                  0.225   Jarque-Bera (JB):                1.016\n",
      "Skew:                           0.204   Prob(JB):                        0.602\n",
      "Kurtosis:                       1.493   Cond. No.                         3.95\n",
      "==============================================================================\n",
      "\n",
      "Warnings:\n",
      "[1] Standard Errors assume that the covariance matrix of the errors is correctly specified.\n"
     ]
    },
    {
     "name": "stderr",
     "output_type": "stream",
     "text": [
      "/opt/anaconda3/lib/python3.7/site-packages/scipy/stats/stats.py:1450: UserWarning: kurtosistest only valid for n>=20 ... continuing anyway, n=10\n",
      "  \"anyway, n=%i\" % int(n))\n"
     ]
    }
   ],
   "source": [
    "#モデルの作成、バイアス項を追加\n",
    "model = sm.OLS(y, sm.add_constant(X))\n",
    "results = model.fit()\n",
    "\n",
    "#結果を表示\n",
    "print(results.summary())"
   ]
  },
  {
   "cell_type": "code",
   "execution_count": 7,
   "metadata": {
    "scrolled": true
   },
   "outputs": [
    {
     "name": "stdout",
     "output_type": "stream",
     "text": [
      "0.904433524367601\n"
     ]
    }
   ],
   "source": [
    "#重相関係数を計算\n",
    "R = math.sqrt(0.818)\n",
    "print(R)"
   ]
  },
  {
   "cell_type": "markdown",
   "metadata": {},
   "source": [
    "Rを計算するために、表の値を書き写してしまっているが、上の表からほしい統計量を取り出す方法が  \n",
    "あれば教えてほしい。"
   ]
  },
  {
   "cell_type": "code",
   "execution_count": 11,
   "metadata": {
    "scrolled": true
   },
   "outputs": [
    {
     "name": "stdout",
     "output_type": "stream",
     "text": [
      "[92. 92. 83. 83. 82. 73. 73. 73. 73. 64.]\n"
     ]
    }
   ],
   "source": [
    "#予測値の書き出し\n",
    "pred = results.predict(sm.add_constant(X))\n",
    "print(pred)"
   ]
  },
  {
   "cell_type": "markdown",
   "metadata": {},
   "source": [
    "## 変数選択"
   ]
  },
  {
   "cell_type": "markdown",
   "metadata": {},
   "source": [
    "説明変数として線形代数の試験結果を選択した場合のF_0値は5.51であった。  \n",
    "次に、説明変数としてサークルに所属しているか否かの情報を選択した場合の  \n",
    "F_0値を調べる。Club activityのスクリプトを参照。  \n",
    "サークルの情報もモデルに組み込まなかった場合と組み込んだ場合について  \n",
    "adjusted R^2を比較すると、それぞれ0.500, 0.727であり、後者の方が  \n",
    "改善されていることがわかる。従い、サークルの情報はモデルの含めるべき  \n",
    "であることがわかる。"
   ]
  },
  {
   "cell_type": "code",
   "execution_count": null,
   "metadata": {},
   "outputs": [],
   "source": []
  }
 ],
 "metadata": {
  "kernelspec": {
   "display_name": "Python 3",
   "language": "python",
   "name": "python3"
  },
  "language_info": {
   "codemirror_mode": {
    "name": "ipython",
    "version": 3
   },
   "file_extension": ".py",
   "mimetype": "text/x-python",
   "name": "python",
   "nbconvert_exporter": "python",
   "pygments_lexer": "ipython3",
   "version": "3.7.4"
  }
 },
 "nbformat": 4,
 "nbformat_minor": 2
}
