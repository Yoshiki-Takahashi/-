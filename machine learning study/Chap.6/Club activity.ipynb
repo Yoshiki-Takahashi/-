{
 "cells": [
  {
   "cell_type": "markdown",
   "metadata": {},
   "source": [
    "## 説明変数にサークルに所属しているか否かの情報を選択した場合のF_0値を計算"
   ]
  },
  {
   "cell_type": "code",
   "execution_count": 1,
   "metadata": {},
   "outputs": [],
   "source": [
    "#ライブラリをインポート\n",
    "import pandas as pd\n",
    "import numpy as np\n",
    "import math\n",
    "import statsmodels.api as sm"
   ]
  },
  {
   "cell_type": "code",
   "execution_count": 2,
   "metadata": {},
   "outputs": [],
   "source": [
    "#データフレームの作成\n",
    "df = pd.read_csv(\"club_activity.csv\", sep=\",\")"
   ]
  },
  {
   "cell_type": "code",
   "execution_count": 4,
   "metadata": {},
   "outputs": [],
   "source": [
    "#説明変数を取り出す\n",
    "x = df['x2'].values\n",
    "\n",
    "#ターゲット変数を取り出す\n",
    "y = df['score'].values"
   ]
  },
  {
   "cell_type": "code",
   "execution_count": 6,
   "metadata": {},
   "outputs": [
    {
     "name": "stdout",
     "output_type": "stream",
     "text": [
      "                            OLS Regression Results                            \n",
      "==============================================================================\n",
      "Dep. Variable:                      y   R-squared:                       0.142\n",
      "Model:                            OLS   Adj. R-squared:                  0.035\n",
      "Method:                 Least Squares   F-statistic:                     1.322\n",
      "Date:                Mon, 24 Aug 2020   Prob (F-statistic):              0.283\n",
      "Time:                        21:14:51   Log-Likelihood:                -35.999\n",
      "No. Observations:                  10   AIC:                             76.00\n",
      "Df Residuals:                       8   BIC:                             76.60\n",
      "Df Model:                           1                                         \n",
      "Covariance Type:            nonrobust                                         \n",
      "==============================================================================\n",
      "                 coef    std err          t      P>|t|      [0.025      0.975]\n",
      "------------------------------------------------------------------------------\n",
      "const         75.2000      4.427     16.986      0.000      64.991      85.409\n",
      "x1             7.2000      6.261      1.150      0.283      -7.238      21.638\n",
      "==============================================================================\n",
      "Omnibus:                        0.252   Durbin-Watson:                   0.800\n",
      "Prob(Omnibus):                  0.882   Jarque-Bera (JB):                0.405\n",
      "Skew:                           0.137   Prob(JB):                        0.817\n",
      "Kurtosis:                       2.053   Cond. No.                         2.62\n",
      "==============================================================================\n",
      "\n",
      "Warnings:\n",
      "[1] Standard Errors assume that the covariance matrix of the errors is correctly specified.\n"
     ]
    },
    {
     "name": "stderr",
     "output_type": "stream",
     "text": [
      "/opt/anaconda3/lib/python3.7/site-packages/scipy/stats/stats.py:1450: UserWarning: kurtosistest only valid for n>=20 ... continuing anyway, n=10\n",
      "  \"anyway, n=%i\" % int(n))\n"
     ]
    }
   ],
   "source": [
    "#モデルの作成、バイアス項を追加\n",
    "model = sm.OLS(y, sm.add_constant(x))\n",
    "results = model.fit()\n",
    "\n",
    "#結果を表示\n",
    "print(results.summary())"
   ]
  },
  {
   "cell_type": "markdown",
   "metadata": {},
   "source": [
    "今回F_0の値は1.32となっている。線形代数のF_0値が5.51であった。線形代数＋サークルで作った回帰式の偏回帰係数（19.0 vs 9.0）を\n",
    "比較することで線形代数の方が目的変数への影響力は大きいとわかる。  \n",
    "Linear Algebra Test & Club activityのスクリプトに戻る。  "
   ]
  },
  {
   "cell_type": "code",
   "execution_count": null,
   "metadata": {},
   "outputs": [],
   "source": []
  }
 ],
 "metadata": {
  "kernelspec": {
   "display_name": "Python 3",
   "language": "python",
   "name": "python3"
  },
  "language_info": {
   "codemirror_mode": {
    "name": "ipython",
    "version": 3
   },
   "file_extension": ".py",
   "mimetype": "text/x-python",
   "name": "python",
   "nbconvert_exporter": "python",
   "pygments_lexer": "ipython3",
   "version": "3.7.4"
  }
 },
 "nbformat": 4,
 "nbformat_minor": 2
}
