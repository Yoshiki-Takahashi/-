{
 "cells": [
  {
   "cell_type": "markdown",
   "metadata": {},
   "source": [
    "## 6.4 説明変数に量的変数と質的変数が混在する場合"
   ]
  },
  {
   "cell_type": "markdown",
   "metadata": {},
   "source": [
    "解析の流れは、これまでとほとんど同じなので、詳細な説明は割愛する。"
   ]
  },
  {
   "cell_type": "code",
   "execution_count": 2,
   "metadata": {},
   "outputs": [],
   "source": [
    "#ライブラリをインポート\n",
    "import numpy as np\n",
    "import pandas as pd\n",
    "import statsmodels.api as sm\n",
    "import math"
   ]
  },
  {
   "cell_type": "code",
   "execution_count": 4,
   "metadata": {},
   "outputs": [],
   "source": [
    "#データフレームの作成\n",
    "df = pd.read_csv(\"6.4.csv\", sep=\",\")"
   ]
  },
  {
   "cell_type": "code",
   "execution_count": 7,
   "metadata": {},
   "outputs": [],
   "source": [
    "#説明変数を取り出す\n",
    "X = df.loc[:,['x12','x13','x2','x3']].values\n",
    "\n",
    "#ターゲット変数を取り出す\n",
    "y = df['score'].values"
   ]
  },
  {
   "cell_type": "code",
   "execution_count": 8,
   "metadata": {},
   "outputs": [
    {
     "name": "stdout",
     "output_type": "stream",
     "text": [
      "                            OLS Regression Results                            \n",
      "==============================================================================\n",
      "Dep. Variable:                      y   R-squared:                       0.920\n",
      "Model:                            OLS   Adj. R-squared:                  0.856\n",
      "Method:                 Least Squares   F-statistic:                     14.38\n",
      "Date:                Mon, 24 Aug 2020   Prob (F-statistic):            0.00597\n",
      "Time:                        21:31:34   Log-Likelihood:                -24.134\n",
      "No. Observations:                  10   AIC:                             58.27\n",
      "Df Residuals:                       5   BIC:                             59.78\n",
      "Df Model:                           4                                         \n",
      "Covariance Type:            nonrobust                                         \n",
      "==============================================================================\n",
      "                 coef    std err          t      P>|t|      [0.025      0.975]\n",
      "------------------------------------------------------------------------------\n",
      "const         89.0054      3.300     26.969      0.000      80.522      97.489\n",
      "x1            -9.7471      2.951     -3.303      0.021     -17.333      -2.161\n",
      "x2           -19.6954      2.962     -6.649      0.001     -27.310     -12.080\n",
      "x3             9.1896      2.504      3.670      0.014       2.753      15.626\n",
      "x4            -0.1264      0.050     -2.522      0.053      -0.255       0.002\n",
      "==============================================================================\n",
      "Omnibus:                        1.898   Durbin-Watson:                   2.456\n",
      "Prob(Omnibus):                  0.387   Jarque-Bera (JB):                0.483\n",
      "Skew:                           0.534   Prob(JB):                        0.786\n",
      "Kurtosis:                       3.127   Cond. No.                         183.\n",
      "==============================================================================\n",
      "\n",
      "Warnings:\n",
      "[1] Standard Errors assume that the covariance matrix of the errors is correctly specified.\n"
     ]
    },
    {
     "name": "stderr",
     "output_type": "stream",
     "text": [
      "/opt/anaconda3/lib/python3.7/site-packages/scipy/stats/stats.py:1450: UserWarning: kurtosistest only valid for n>=20 ... continuing anyway, n=10\n",
      "  \"anyway, n=%i\" % int(n))\n"
     ]
    }
   ],
   "source": [
    "#モデルの作成、バイアス項の追加\n",
    "model = sm.OLS(y, sm.add_constant(X))\n",
    "results = model.fit()\n",
    "\n",
    "#結果を表示\n",
    "print(results.summary())"
   ]
  },
  {
   "cell_type": "markdown",
   "metadata": {},
   "source": [
    "自由度調整済決定係数が0.85を上回ると、予測性能に優れていると言われるらしい。"
   ]
  },
  {
   "cell_type": "code",
   "execution_count": null,
   "metadata": {},
   "outputs": [],
   "source": []
  }
 ],
 "metadata": {
  "kernelspec": {
   "display_name": "Python 3",
   "language": "python",
   "name": "python3"
  },
  "language_info": {
   "codemirror_mode": {
    "name": "ipython",
    "version": 3
   },
   "file_extension": ".py",
   "mimetype": "text/x-python",
   "name": "python",
   "nbconvert_exporter": "python",
   "pygments_lexer": "ipython3",
   "version": "3.7.4"
  }
 },
 "nbformat": 4,
 "nbformat_minor": 2
}
