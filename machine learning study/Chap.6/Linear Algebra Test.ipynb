{
 "cells": [
  {
   "cell_type": "markdown",
   "metadata": {},
   "source": [
    "# Chap.6 数量化１類"
   ]
  },
  {
   "cell_type": "markdown",
   "metadata": {},
   "source": [
    "本章では、目的変数が量的変数、説明変数が質的変数の場合の解析方法を考える。  \n",
    "結論から述べると、質的変数についてはダミー変数を設定し、それを量的変数と  \n",
    "捉えることで解析が可能となる。"
   ]
  },
  {
   "cell_type": "markdown",
   "metadata": {},
   "source": [
    "## 6.1の説明は割愛"
   ]
  },
  {
   "cell_type": "markdown",
   "metadata": {},
   "source": [
    "## 6.2 説明変数が１個の場合の解析方法"
   ]
  },
  {
   "cell_type": "markdown",
   "metadata": {},
   "source": [
    "今回の説明変数は線形代数の成績である。注意すべきは、成績が得点といった  \n",
    "数値ではなく、「優、良、可」といった数値ではないもので与えられている  \n",
    "ことである。  \n",
    "質的変数のことをアイテムと呼び、優、良、可という分類をカテゴリーとして  \n",
    "定義する。具体的な数値化の方法は教科書p.88-9を参照してほしい。  \n",
    "優、良、可、それぞれに対して、0 or 1でダミー変数を振ってから、回帰式の  \n",
    "モデルを作成する。このとき各カテゴリー変数について、例えば成績が優である  \n",
    "とき、  \n",
    "x1_(2) + x2_(3) = 0  \n",
    "が成立し、これは2変数について共線性が成立するため、最小２乗法が適用  \n",
    "できない（正規方程式について係数行列のインバースが計算できない）。  \n",
    "従い、ダミー変数を１つ削除することで、この課題を解決する。  \n",
    "例えばx1_(1)削除後の成績表は6.2.csvのようになる。この新しい成績表を  \n",
    "使って回帰分析を実行する。"
   ]
  },
  {
   "cell_type": "markdown",
   "metadata": {},
   "source": [
    "## まずsklearnでやってみる"
   ]
  },
  {
   "cell_type": "code",
   "execution_count": 20,
   "metadata": {},
   "outputs": [],
   "source": [
    "#ライブラリをインポート\n",
    "import pandas as pd\n",
    "import numpy as np\n",
    "from sklearn.linear_model import LinearRegression\n",
    "%matplotlib inline\n",
    "import matplotlib.pyplot as plt\n",
    "import math\n",
    "import statsmodels.api as sm"
   ]
  },
  {
   "cell_type": "code",
   "execution_count": 2,
   "metadata": {},
   "outputs": [],
   "source": [
    "npArray = np.loadtxt(\"6.2.csv\", delimiter=\",\", dtype=\"float\",skiprows=1)\n",
    "x = npArray[:, 1:3]#説明変数x12,x13を要素とする２次元配列を作成\n",
    "y = npArray[:, 3:4].ravel()#ターゲット変数scoreを要素とする１次元配列を作成"
   ]
  },
  {
   "cell_type": "code",
   "execution_count": 3,
   "metadata": {},
   "outputs": [],
   "source": [
    "#モデルの選択\n",
    "model = LinearRegression()"
   ]
  },
  {
   "cell_type": "code",
   "execution_count": 4,
   "metadata": {},
   "outputs": [
    {
     "data": {
      "text/plain": [
       "LinearRegression(copy_X=True, fit_intercept=True, n_jobs=None, normalize=False)"
      ]
     },
     "execution_count": 4,
     "metadata": {},
     "output_type": "execute_result"
    }
   ],
   "source": [
    "#フィッティング（テスト用のデータがある場合は「学習」）\n",
    "model.fit(x,y)"
   ]
  },
  {
   "cell_type": "code",
   "execution_count": 5,
   "metadata": {},
   "outputs": [
    {
     "name": "stdout",
     "output_type": "stream",
     "text": [
      "[87.5 87.5 87.5 87.5 76.  76.  76.  70.  70.  70. ]\n"
     ]
    }
   ],
   "source": [
    "#予測値を書き出し\n",
    "y_pred=model.predict(x)\n",
    "print(y_pred)"
   ]
  },
  {
   "cell_type": "code",
   "execution_count": 6,
   "metadata": {},
   "outputs": [
    {
     "name": "stdout",
     "output_type": "stream",
     "text": [
      "x12の回帰係数： -11.50\n",
      "x13の回帰係数： -17.50\n",
      "バイアス項： 87.50\n"
     ]
    }
   ],
   "source": [
    "#回帰係数を書き出し\n",
    "print('x12の回帰係数： %.2f' % model.coef_[0])\n",
    "print('x13の回帰係数： %.2f' % model.coef_[1])\n",
    "print('バイアス項： %.2f' % model.intercept_)"
   ]
  },
  {
   "cell_type": "code",
   "execution_count": 9,
   "metadata": {},
   "outputs": [
    {
     "name": "stdout",
     "output_type": "stream",
     "text": [
      "0.6114273204903677\n"
     ]
    }
   ],
   "source": [
    "#決定係数を出力\n",
    "R_squared = model.score(x,y)\n",
    "print(R_squared)"
   ]
  },
  {
   "cell_type": "code",
   "execution_count": 11,
   "metadata": {},
   "outputs": [
    {
     "name": "stdout",
     "output_type": "stream",
     "text": [
      "0.781938182013366\n"
     ]
    }
   ],
   "source": [
    "#重相関係数を出力\n",
    "R = math.sqrt(R_squared)\n",
    "print(R)"
   ]
  },
  {
   "cell_type": "markdown",
   "metadata": {},
   "source": [
    "## 自由度調整済決定係数を求めるためにstatsmodelsを使う"
   ]
  },
  {
   "cell_type": "code",
   "execution_count": 13,
   "metadata": {},
   "outputs": [],
   "source": [
    "#データフレームの作成\n",
    "data = pd.read_csv(\"6.2.csv\", sep=\",\")"
   ]
  },
  {
   "cell_type": "code",
   "execution_count": 14,
   "metadata": {
    "collapsed": true
   },
   "outputs": [
    {
     "data": {
      "text/html": [
       "<div>\n",
       "<style scoped>\n",
       "    .dataframe tbody tr th:only-of-type {\n",
       "        vertical-align: middle;\n",
       "    }\n",
       "\n",
       "    .dataframe tbody tr th {\n",
       "        vertical-align: top;\n",
       "    }\n",
       "\n",
       "    .dataframe thead th {\n",
       "        text-align: right;\n",
       "    }\n",
       "</style>\n",
       "<table border=\"1\" class=\"dataframe\">\n",
       "  <thead>\n",
       "    <tr style=\"text-align: right;\">\n",
       "      <th></th>\n",
       "      <th>Unnamed: 0</th>\n",
       "      <th>x12</th>\n",
       "      <th>x13</th>\n",
       "      <th>score</th>\n",
       "    </tr>\n",
       "  </thead>\n",
       "  <tbody>\n",
       "    <tr>\n",
       "      <td>0</td>\n",
       "      <td>1</td>\n",
       "      <td>0</td>\n",
       "      <td>0</td>\n",
       "      <td>96</td>\n",
       "    </tr>\n",
       "    <tr>\n",
       "      <td>1</td>\n",
       "      <td>2</td>\n",
       "      <td>0</td>\n",
       "      <td>0</td>\n",
       "      <td>88</td>\n",
       "    </tr>\n",
       "    <tr>\n",
       "      <td>2</td>\n",
       "      <td>3</td>\n",
       "      <td>0</td>\n",
       "      <td>0</td>\n",
       "      <td>77</td>\n",
       "    </tr>\n",
       "    <tr>\n",
       "      <td>3</td>\n",
       "      <td>4</td>\n",
       "      <td>0</td>\n",
       "      <td>0</td>\n",
       "      <td>89</td>\n",
       "    </tr>\n",
       "    <tr>\n",
       "      <td>4</td>\n",
       "      <td>5</td>\n",
       "      <td>1</td>\n",
       "      <td>0</td>\n",
       "      <td>80</td>\n",
       "    </tr>\n",
       "    <tr>\n",
       "      <td>5</td>\n",
       "      <td>6</td>\n",
       "      <td>1</td>\n",
       "      <td>0</td>\n",
       "      <td>71</td>\n",
       "    </tr>\n",
       "    <tr>\n",
       "      <td>6</td>\n",
       "      <td>7</td>\n",
       "      <td>1</td>\n",
       "      <td>0</td>\n",
       "      <td>77</td>\n",
       "    </tr>\n",
       "    <tr>\n",
       "      <td>7</td>\n",
       "      <td>8</td>\n",
       "      <td>0</td>\n",
       "      <td>1</td>\n",
       "      <td>78</td>\n",
       "    </tr>\n",
       "    <tr>\n",
       "      <td>8</td>\n",
       "      <td>9</td>\n",
       "      <td>0</td>\n",
       "      <td>1</td>\n",
       "      <td>70</td>\n",
       "    </tr>\n",
       "    <tr>\n",
       "      <td>9</td>\n",
       "      <td>10</td>\n",
       "      <td>0</td>\n",
       "      <td>1</td>\n",
       "      <td>62</td>\n",
       "    </tr>\n",
       "  </tbody>\n",
       "</table>\n",
       "</div>"
      ],
      "text/plain": [
       "   Unnamed: 0  x12  x13  score\n",
       "0           1    0    0     96\n",
       "1           2    0    0     88\n",
       "2           3    0    0     77\n",
       "3           4    0    0     89\n",
       "4           5    1    0     80\n",
       "5           6    1    0     71\n",
       "6           7    1    0     77\n",
       "7           8    0    1     78\n",
       "8           9    0    1     70\n",
       "9          10    0    1     62"
      ]
     },
     "execution_count": 14,
     "metadata": {},
     "output_type": "execute_result"
    }
   ],
   "source": [
    "data"
   ]
  },
  {
   "cell_type": "code",
   "execution_count": 17,
   "metadata": {},
   "outputs": [],
   "source": [
    "#説明変数を取り出す\n",
    "X = data.loc[:, ['x12','x13']].values\n",
    "\n",
    "#ターゲット変数を取り出す\n",
    "Y = data['score'].values"
   ]
  },
  {
   "cell_type": "code",
   "execution_count": 21,
   "metadata": {
    "collapsed": true
   },
   "outputs": [
    {
     "name": "stdout",
     "output_type": "stream",
     "text": [
      "                            OLS Regression Results                            \n",
      "==============================================================================\n",
      "Dep. Variable:                      y   R-squared:                       0.611\n",
      "Model:                            OLS   Adj. R-squared:                  0.500\n",
      "Method:                 Least Squares   F-statistic:                     5.507\n",
      "Date:                Sun, 23 Aug 2020   Prob (F-statistic):             0.0366\n",
      "Time:                        21:27:12   Log-Likelihood:                -32.037\n",
      "No. Observations:                  10   AIC:                             70.07\n",
      "Df Residuals:                       7   BIC:                             70.98\n",
      "Df Model:                           2                                         \n",
      "Covariance Type:            nonrobust                                         \n",
      "==============================================================================\n",
      "                 coef    std err          t      P>|t|      [0.025      0.975]\n",
      "------------------------------------------------------------------------------\n",
      "const         87.5000      3.561     24.574      0.000      79.080      95.920\n",
      "x1           -11.5000      5.439     -2.114      0.072     -24.361       1.361\n",
      "x2           -17.5000      5.439     -3.217      0.015     -30.361      -4.639\n",
      "==============================================================================\n",
      "Omnibus:                        0.384   Durbin-Watson:                   1.773\n",
      "Prob(Omnibus):                  0.825   Jarque-Bera (JB):                0.472\n",
      "Skew:                          -0.284   Prob(JB):                        0.790\n",
      "Kurtosis:                       2.099   Cond. No.                         3.46\n",
      "==============================================================================\n",
      "\n",
      "Warnings:\n",
      "[1] Standard Errors assume that the covariance matrix of the errors is correctly specified.\n"
     ]
    },
    {
     "name": "stderr",
     "output_type": "stream",
     "text": [
      "/opt/anaconda3/lib/python3.7/site-packages/scipy/stats/stats.py:1450: UserWarning: kurtosistest only valid for n>=20 ... continuing anyway, n=10\n",
      "  \"anyway, n=%i\" % int(n))\n"
     ]
    }
   ],
   "source": [
    "#モデルの作成\n",
    "model2 = sm.OLS(Y, sm.add_constant(X))\n",
    "results = model2.fit()\n",
    "\n",
    "#結果を表示\n",
    "print(results.summary())"
   ]
  },
  {
   "cell_type": "markdown",
   "metadata": {},
   "source": [
    "サイキットラーンの時と同じ結果が得られている。かつadjusted R^2も得られている。  \n",
    "しかし、データ数が足りないという文句が来ている。ちなみにF_0 = 5.51は後で参照する。  \n",
    "なお、今回は学習用データとテスト用データを準備しているわけではないため、汎化性能の議論はしない、というかできない。"
   ]
  },
  {
   "cell_type": "markdown",
   "metadata": {},
   "source": [
    "## 変数選択"
   ]
  },
  {
   "cell_type": "markdown",
   "metadata": {},
   "source": [
    "誤解しないでほしいのは、カテゴリー3つはあくまで説明変数1つの中に集約されているものであり  \n",
    "どのカテゴリーは入れて、どのカテゴリーは入れないとかそういう話をしているのではないということ。  \n",
    "カテゴリー全部まとめて突っ込むのかどうかを議論している。繰り返すが、今の場合あくまで説明変数は  \n",
    "1つなのである。こんなこと書いているのも私が混乱したせいではあるが..."
   ]
  },
  {
   "cell_type": "code",
   "execution_count": null,
   "metadata": {},
   "outputs": [],
   "source": []
  }
 ],
 "metadata": {
  "kernelspec": {
   "display_name": "Python 3",
   "language": "python",
   "name": "python3"
  },
  "language_info": {
   "codemirror_mode": {
    "name": "ipython",
    "version": 3
   },
   "file_extension": ".py",
   "mimetype": "text/x-python",
   "name": "python",
   "nbconvert_exporter": "python",
   "pygments_lexer": "ipython3",
   "version": "3.7.4"
  }
 },
 "nbformat": 4,
 "nbformat_minor": 2
}
